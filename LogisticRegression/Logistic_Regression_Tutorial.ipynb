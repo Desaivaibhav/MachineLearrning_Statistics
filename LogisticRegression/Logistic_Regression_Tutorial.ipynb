{
 "cells": [
  {
   "cell_type": "code",
   "execution_count": 1,
   "metadata": {},
   "outputs": [],
   "source": [
    "#Libraries requirements\n",
    "# https://scikit-learn.org/stable/ --- Scientific kit of pre built machine learning algos\n",
    "import pandas as pd\n",
    "import numpy as np\n",
    "import matplotlib.pyplot as plt\n",
    "import seaborn as sns\n",
    "%matplotlib inline"
   ]
  },
  {
   "cell_type": "code",
   "execution_count": 2,
   "metadata": {},
   "outputs": [],
   "source": [
    "#markdown support for customizable print\n",
    "from IPython.display import Markdown, display\n",
    "def printmd(string):\n",
    "    display(Markdown(string))"
   ]
  },
  {
   "cell_type": "markdown",
   "metadata": {},
   "source": [
    "##### ===============================================================================\n",
    "\n",
    "### Dataset: A magazine seller want’s to sell an email to the customer about his new kid’s magazine.Before making his marketing efforts he wants to know that which customer will buy the kid’s magazine.\n",
    "\n",
    "#### We have purchase history.\n",
    "\n",
    "### Objective: Predict the chance of a customer purchasing the kid’s magazine\n",
    "##### ==============================================================================="
   ]
  },
  {
   "cell_type": "code",
   "execution_count": 3,
   "metadata": {},
   "outputs": [],
   "source": [
    "#Import the dataset\n",
    "data=pd.read_csv(\"./Kidcreative.csv\",sep=',')\n",
    "data_orig=data.copy()"
   ]
  },
  {
   "cell_type": "markdown",
   "metadata": {},
   "source": [
    "##### ===============================================================================\n",
    "\n",
    "## Exploratory Data Analysis - \n",
    "#### Dataset exploration, visualization, cleaning\n",
    "\n",
    "### 1) Attributes/Features/Columns & Data Types\n",
    "### 2) Subeste View\n",
    "### 3) Descriptive Statistics\n",
    "### 4) Missing Values\n",
    "### 5)Plot Charts: (Distribution of features)\n",
    "<ul>\n",
    " <li>Bar charts: Deiscrete Variables</li>\n",
    " <li>Histogram : Continous Varibale</li>\n",
    " <li> Correlation/ Heatmap/ Scatter Plots: Collinearity/ Multi collinearity</li>\n",
    " <li> Box Plots: Numeric Vartiables Range/ Quantiles</li>\n",
    " </ul>\n",
    "\n",
    "##### ==============================================================================="
   ]
  },
  {
   "cell_type": "code",
   "execution_count": 4,
   "metadata": {},
   "outputs": [
    {
     "name": "stdout",
     "output_type": "stream",
     "text": [
      "1: Buy\n",
      "2: Income\n",
      "3: Is.Female\n",
      "4: Is.Married\n",
      "5: Has.College\n",
      "6: Is.Professional\n",
      "7: Is.Retired\n",
      "8: Unemployed\n",
      "9: Residence.Length\n",
      "10: Dual.Income\n",
      "11: Minors\n",
      "12: Own\n",
      "13: House\n",
      "14: Is.USBorn\n",
      "15: English\n",
      "16: Prev.Child.Mag\n",
      "17: Prev.Parent.Mag\n"
     ]
    }
   ],
   "source": [
    "# Columns of Dataset\n",
    "cnt=1\n",
    "for i in data.columns.to_list():\n",
    "    print(f\"{cnt}: {i}\")\n",
    "    cnt +=1 \n",
    "    "
   ]
  },
  {
   "cell_type": "code",
   "execution_count": 5,
   "metadata": {},
   "outputs": [
    {
     "name": "stdout",
     "output_type": "stream",
     "text": [
      "==============================================\n",
      "Variable:                  Type: \n",
      "Buy                 int64\n",
      "Income              int64\n",
      "Is.Female           int64\n",
      "Is.Married          int64\n",
      "Has.College         int64\n",
      "Is.Professional     int64\n",
      "Is.Retired          int64\n",
      "Unemployed          int64\n",
      "Residence.Length    int64\n",
      "Dual.Income         int64\n",
      "Minors              int64\n",
      "Own                 int64\n",
      "House               int64\n",
      "Is.USBorn           int64\n",
      "English             int64\n",
      "Prev.Child.Mag      int64\n",
      "Prev.Parent.Mag     int64\n",
      "dtype: object\n"
     ]
    }
   ],
   "source": [
    "print(\"==============================================\")\n",
    "print(f\"Variable:                  Type: \\n{data.dtypes}\")"
   ]
  },
  {
   "cell_type": "code",
   "execution_count": 6,
   "metadata": {},
   "outputs": [
    {
     "name": "stdout",
     "output_type": "stream",
     "text": [
      "======================================\n"
     ]
    },
    {
     "data": {
      "text/markdown": [
       "**rows: 673 & columns: 17**"
      ],
      "text/plain": [
       "<IPython.core.display.Markdown object>"
      ]
     },
     "metadata": {},
     "output_type": "display_data"
    },
    {
     "name": "stdout",
     "output_type": "stream",
     "text": [
      "======================================\n"
     ]
    },
    {
     "data": {
      "text/html": [
       "<div>\n",
       "<style scoped>\n",
       "    .dataframe tbody tr th:only-of-type {\n",
       "        vertical-align: middle;\n",
       "    }\n",
       "\n",
       "    .dataframe tbody tr th {\n",
       "        vertical-align: top;\n",
       "    }\n",
       "\n",
       "    .dataframe thead th {\n",
       "        text-align: right;\n",
       "    }\n",
       "</style>\n",
       "<table border=\"1\" class=\"dataframe\">\n",
       "  <thead>\n",
       "    <tr style=\"text-align: right;\">\n",
       "      <th></th>\n",
       "      <th>Buy</th>\n",
       "      <th>Income</th>\n",
       "      <th>Is.Female</th>\n",
       "      <th>Is.Married</th>\n",
       "      <th>Has.College</th>\n",
       "      <th>Is.Professional</th>\n",
       "      <th>Is.Retired</th>\n",
       "      <th>Unemployed</th>\n",
       "      <th>Residence.Length</th>\n",
       "      <th>Dual.Income</th>\n",
       "      <th>Minors</th>\n",
       "      <th>Own</th>\n",
       "      <th>House</th>\n",
       "      <th>Is.USBorn</th>\n",
       "      <th>English</th>\n",
       "      <th>Prev.Child.Mag</th>\n",
       "      <th>Prev.Parent.Mag</th>\n",
       "    </tr>\n",
       "  </thead>\n",
       "  <tbody>\n",
       "    <tr>\n",
       "      <th>0</th>\n",
       "      <td>0</td>\n",
       "      <td>24000</td>\n",
       "      <td>1</td>\n",
       "      <td>0</td>\n",
       "      <td>1</td>\n",
       "      <td>1</td>\n",
       "      <td>0</td>\n",
       "      <td>0</td>\n",
       "      <td>26</td>\n",
       "      <td>0</td>\n",
       "      <td>0</td>\n",
       "      <td>0</td>\n",
       "      <td>1</td>\n",
       "      <td>0</td>\n",
       "      <td>0</td>\n",
       "      <td>0</td>\n",
       "      <td>0</td>\n",
       "    </tr>\n",
       "    <tr>\n",
       "      <th>1</th>\n",
       "      <td>1</td>\n",
       "      <td>75000</td>\n",
       "      <td>1</td>\n",
       "      <td>1</td>\n",
       "      <td>1</td>\n",
       "      <td>1</td>\n",
       "      <td>0</td>\n",
       "      <td>0</td>\n",
       "      <td>15</td>\n",
       "      <td>1</td>\n",
       "      <td>0</td>\n",
       "      <td>1</td>\n",
       "      <td>1</td>\n",
       "      <td>1</td>\n",
       "      <td>1</td>\n",
       "      <td>1</td>\n",
       "      <td>0</td>\n",
       "    </tr>\n",
       "    <tr>\n",
       "      <th>2</th>\n",
       "      <td>0</td>\n",
       "      <td>46000</td>\n",
       "      <td>1</td>\n",
       "      <td>1</td>\n",
       "      <td>0</td>\n",
       "      <td>0</td>\n",
       "      <td>0</td>\n",
       "      <td>0</td>\n",
       "      <td>36</td>\n",
       "      <td>1</td>\n",
       "      <td>1</td>\n",
       "      <td>1</td>\n",
       "      <td>1</td>\n",
       "      <td>1</td>\n",
       "      <td>1</td>\n",
       "      <td>0</td>\n",
       "      <td>0</td>\n",
       "    </tr>\n",
       "    <tr>\n",
       "      <th>3</th>\n",
       "      <td>1</td>\n",
       "      <td>70000</td>\n",
       "      <td>0</td>\n",
       "      <td>1</td>\n",
       "      <td>0</td>\n",
       "      <td>1</td>\n",
       "      <td>0</td>\n",
       "      <td>0</td>\n",
       "      <td>55</td>\n",
       "      <td>0</td>\n",
       "      <td>0</td>\n",
       "      <td>1</td>\n",
       "      <td>1</td>\n",
       "      <td>1</td>\n",
       "      <td>1</td>\n",
       "      <td>1</td>\n",
       "      <td>0</td>\n",
       "    </tr>\n",
       "    <tr>\n",
       "      <th>4</th>\n",
       "      <td>0</td>\n",
       "      <td>43000</td>\n",
       "      <td>1</td>\n",
       "      <td>0</td>\n",
       "      <td>0</td>\n",
       "      <td>0</td>\n",
       "      <td>0</td>\n",
       "      <td>0</td>\n",
       "      <td>27</td>\n",
       "      <td>0</td>\n",
       "      <td>0</td>\n",
       "      <td>0</td>\n",
       "      <td>0</td>\n",
       "      <td>1</td>\n",
       "      <td>1</td>\n",
       "      <td>0</td>\n",
       "      <td>1</td>\n",
       "    </tr>\n",
       "    <tr>\n",
       "      <th>5</th>\n",
       "      <td>0</td>\n",
       "      <td>24000</td>\n",
       "      <td>1</td>\n",
       "      <td>1</td>\n",
       "      <td>0</td>\n",
       "      <td>0</td>\n",
       "      <td>0</td>\n",
       "      <td>0</td>\n",
       "      <td>41</td>\n",
       "      <td>0</td>\n",
       "      <td>0</td>\n",
       "      <td>1</td>\n",
       "      <td>1</td>\n",
       "      <td>0</td>\n",
       "      <td>0</td>\n",
       "      <td>0</td>\n",
       "      <td>0</td>\n",
       "    </tr>\n",
       "    <tr>\n",
       "      <th>6</th>\n",
       "      <td>0</td>\n",
       "      <td>26000</td>\n",
       "      <td>1</td>\n",
       "      <td>1</td>\n",
       "      <td>1</td>\n",
       "      <td>0</td>\n",
       "      <td>1</td>\n",
       "      <td>0</td>\n",
       "      <td>20</td>\n",
       "      <td>0</td>\n",
       "      <td>1</td>\n",
       "      <td>1</td>\n",
       "      <td>1</td>\n",
       "      <td>1</td>\n",
       "      <td>1</td>\n",
       "      <td>0</td>\n",
       "      <td>0</td>\n",
       "    </tr>\n",
       "    <tr>\n",
       "      <th>7</th>\n",
       "      <td>0</td>\n",
       "      <td>38000</td>\n",
       "      <td>1</td>\n",
       "      <td>1</td>\n",
       "      <td>0</td>\n",
       "      <td>0</td>\n",
       "      <td>1</td>\n",
       "      <td>0</td>\n",
       "      <td>8</td>\n",
       "      <td>0</td>\n",
       "      <td>0</td>\n",
       "      <td>1</td>\n",
       "      <td>1</td>\n",
       "      <td>1</td>\n",
       "      <td>1</td>\n",
       "      <td>0</td>\n",
       "      <td>0</td>\n",
       "    </tr>\n",
       "    <tr>\n",
       "      <th>8</th>\n",
       "      <td>0</td>\n",
       "      <td>39000</td>\n",
       "      <td>1</td>\n",
       "      <td>0</td>\n",
       "      <td>1</td>\n",
       "      <td>1</td>\n",
       "      <td>0</td>\n",
       "      <td>0</td>\n",
       "      <td>17</td>\n",
       "      <td>0</td>\n",
       "      <td>0</td>\n",
       "      <td>0</td>\n",
       "      <td>0</td>\n",
       "      <td>1</td>\n",
       "      <td>1</td>\n",
       "      <td>0</td>\n",
       "      <td>0</td>\n",
       "    </tr>\n",
       "    <tr>\n",
       "      <th>9</th>\n",
       "      <td>0</td>\n",
       "      <td>49000</td>\n",
       "      <td>0</td>\n",
       "      <td>1</td>\n",
       "      <td>0</td>\n",
       "      <td>0</td>\n",
       "      <td>1</td>\n",
       "      <td>0</td>\n",
       "      <td>31</td>\n",
       "      <td>0</td>\n",
       "      <td>0</td>\n",
       "      <td>1</td>\n",
       "      <td>1</td>\n",
       "      <td>1</td>\n",
       "      <td>1</td>\n",
       "      <td>0</td>\n",
       "      <td>0</td>\n",
       "    </tr>\n",
       "  </tbody>\n",
       "</table>\n",
       "</div>"
      ],
      "text/plain": [
       "   Buy  Income  Is.Female  Is.Married  Has.College  Is.Professional  \\\n",
       "0    0   24000          1           0            1                1   \n",
       "1    1   75000          1           1            1                1   \n",
       "2    0   46000          1           1            0                0   \n",
       "3    1   70000          0           1            0                1   \n",
       "4    0   43000          1           0            0                0   \n",
       "5    0   24000          1           1            0                0   \n",
       "6    0   26000          1           1            1                0   \n",
       "7    0   38000          1           1            0                0   \n",
       "8    0   39000          1           0            1                1   \n",
       "9    0   49000          0           1            0                0   \n",
       "\n",
       "   Is.Retired  Unemployed  Residence.Length  Dual.Income  Minors  Own  House  \\\n",
       "0           0           0                26            0       0    0      1   \n",
       "1           0           0                15            1       0    1      1   \n",
       "2           0           0                36            1       1    1      1   \n",
       "3           0           0                55            0       0    1      1   \n",
       "4           0           0                27            0       0    0      0   \n",
       "5           0           0                41            0       0    1      1   \n",
       "6           1           0                20            0       1    1      1   \n",
       "7           1           0                 8            0       0    1      1   \n",
       "8           0           0                17            0       0    0      0   \n",
       "9           1           0                31            0       0    1      1   \n",
       "\n",
       "   Is.USBorn  English  Prev.Child.Mag  Prev.Parent.Mag  \n",
       "0          0        0               0                0  \n",
       "1          1        1               1                0  \n",
       "2          1        1               0                0  \n",
       "3          1        1               1                0  \n",
       "4          1        1               0                1  \n",
       "5          0        0               0                0  \n",
       "6          1        1               0                0  \n",
       "7          1        1               0                0  \n",
       "8          1        1               0                0  \n",
       "9          1        1               0                0  "
      ]
     },
     "execution_count": 6,
     "metadata": {},
     "output_type": "execute_result"
    }
   ],
   "source": [
    "# View sample records\n",
    "rc=data.shape\n",
    "print(\"======================================\")\n",
    "printmd(f\"**rows: {rc[0]} & columns: {rc[1]}**\")\n",
    "print(\"======================================\")\n",
    "data.head(10)"
   ]
  },
  {
   "cell_type": "code",
   "execution_count": 7,
   "metadata": {},
   "outputs": [
    {
     "data": {
      "text/html": [
       "<div>\n",
       "<style scoped>\n",
       "    .dataframe tbody tr th:only-of-type {\n",
       "        vertical-align: middle;\n",
       "    }\n",
       "\n",
       "    .dataframe tbody tr th {\n",
       "        vertical-align: top;\n",
       "    }\n",
       "\n",
       "    .dataframe thead th {\n",
       "        text-align: right;\n",
       "    }\n",
       "</style>\n",
       "<table border=\"1\" class=\"dataframe\">\n",
       "  <thead>\n",
       "    <tr style=\"text-align: right;\">\n",
       "      <th></th>\n",
       "      <th>Buy</th>\n",
       "      <th>Income</th>\n",
       "      <th>Is.Female</th>\n",
       "      <th>Is.Married</th>\n",
       "      <th>Has.College</th>\n",
       "      <th>Is.Professional</th>\n",
       "      <th>Is.Retired</th>\n",
       "      <th>Unemployed</th>\n",
       "      <th>Residence.Length</th>\n",
       "      <th>Dual.Income</th>\n",
       "      <th>Minors</th>\n",
       "      <th>Own</th>\n",
       "      <th>House</th>\n",
       "      <th>Is.USBorn</th>\n",
       "      <th>English</th>\n",
       "      <th>Prev.Child.Mag</th>\n",
       "      <th>Prev.Parent.Mag</th>\n",
       "    </tr>\n",
       "  </thead>\n",
       "  <tbody>\n",
       "    <tr>\n",
       "      <th>count</th>\n",
       "      <td>673.000000</td>\n",
       "      <td>673.000000</td>\n",
       "      <td>673.000000</td>\n",
       "      <td>673.000000</td>\n",
       "      <td>673.000000</td>\n",
       "      <td>673.000000</td>\n",
       "      <td>673.000000</td>\n",
       "      <td>673.000000</td>\n",
       "      <td>673.000000</td>\n",
       "      <td>673.000000</td>\n",
       "      <td>673.000000</td>\n",
       "      <td>673.000000</td>\n",
       "      <td>673.000000</td>\n",
       "      <td>673.000000</td>\n",
       "      <td>673.000000</td>\n",
       "      <td>673.000000</td>\n",
       "      <td>673.000000</td>\n",
       "    </tr>\n",
       "    <tr>\n",
       "      <th>mean</th>\n",
       "      <td>0.185736</td>\n",
       "      <td>35078.751857</td>\n",
       "      <td>0.551263</td>\n",
       "      <td>0.349183</td>\n",
       "      <td>0.289747</td>\n",
       "      <td>0.341753</td>\n",
       "      <td>0.057949</td>\n",
       "      <td>0.031204</td>\n",
       "      <td>17.618128</td>\n",
       "      <td>0.231798</td>\n",
       "      <td>0.364042</td>\n",
       "      <td>0.362556</td>\n",
       "      <td>0.667162</td>\n",
       "      <td>0.692422</td>\n",
       "      <td>0.909361</td>\n",
       "      <td>0.071322</td>\n",
       "      <td>0.084695</td>\n",
       "    </tr>\n",
       "    <tr>\n",
       "      <th>std</th>\n",
       "      <td>0.389182</td>\n",
       "      <td>23812.787498</td>\n",
       "      <td>0.497735</td>\n",
       "      <td>0.477066</td>\n",
       "      <td>0.453982</td>\n",
       "      <td>0.474650</td>\n",
       "      <td>0.233822</td>\n",
       "      <td>0.173997</td>\n",
       "      <td>13.555818</td>\n",
       "      <td>0.422294</td>\n",
       "      <td>0.481518</td>\n",
       "      <td>0.481096</td>\n",
       "      <td>0.471580</td>\n",
       "      <td>0.461834</td>\n",
       "      <td>0.287308</td>\n",
       "      <td>0.257554</td>\n",
       "      <td>0.278635</td>\n",
       "    </tr>\n",
       "    <tr>\n",
       "      <th>min</th>\n",
       "      <td>0.000000</td>\n",
       "      <td>0.000000</td>\n",
       "      <td>0.000000</td>\n",
       "      <td>0.000000</td>\n",
       "      <td>0.000000</td>\n",
       "      <td>0.000000</td>\n",
       "      <td>0.000000</td>\n",
       "      <td>0.000000</td>\n",
       "      <td>0.000000</td>\n",
       "      <td>0.000000</td>\n",
       "      <td>0.000000</td>\n",
       "      <td>0.000000</td>\n",
       "      <td>0.000000</td>\n",
       "      <td>0.000000</td>\n",
       "      <td>0.000000</td>\n",
       "      <td>0.000000</td>\n",
       "      <td>0.000000</td>\n",
       "    </tr>\n",
       "    <tr>\n",
       "      <th>25%</th>\n",
       "      <td>0.000000</td>\n",
       "      <td>14000.000000</td>\n",
       "      <td>0.000000</td>\n",
       "      <td>0.000000</td>\n",
       "      <td>0.000000</td>\n",
       "      <td>0.000000</td>\n",
       "      <td>0.000000</td>\n",
       "      <td>0.000000</td>\n",
       "      <td>7.000000</td>\n",
       "      <td>0.000000</td>\n",
       "      <td>0.000000</td>\n",
       "      <td>0.000000</td>\n",
       "      <td>0.000000</td>\n",
       "      <td>0.000000</td>\n",
       "      <td>1.000000</td>\n",
       "      <td>0.000000</td>\n",
       "      <td>0.000000</td>\n",
       "    </tr>\n",
       "    <tr>\n",
       "      <th>50%</th>\n",
       "      <td>0.000000</td>\n",
       "      <td>32000.000000</td>\n",
       "      <td>1.000000</td>\n",
       "      <td>0.000000</td>\n",
       "      <td>0.000000</td>\n",
       "      <td>0.000000</td>\n",
       "      <td>0.000000</td>\n",
       "      <td>0.000000</td>\n",
       "      <td>16.000000</td>\n",
       "      <td>0.000000</td>\n",
       "      <td>0.000000</td>\n",
       "      <td>0.000000</td>\n",
       "      <td>1.000000</td>\n",
       "      <td>1.000000</td>\n",
       "      <td>1.000000</td>\n",
       "      <td>0.000000</td>\n",
       "      <td>0.000000</td>\n",
       "    </tr>\n",
       "    <tr>\n",
       "      <th>75%</th>\n",
       "      <td>0.000000</td>\n",
       "      <td>52000.000000</td>\n",
       "      <td>1.000000</td>\n",
       "      <td>1.000000</td>\n",
       "      <td>1.000000</td>\n",
       "      <td>1.000000</td>\n",
       "      <td>0.000000</td>\n",
       "      <td>0.000000</td>\n",
       "      <td>24.000000</td>\n",
       "      <td>0.000000</td>\n",
       "      <td>1.000000</td>\n",
       "      <td>1.000000</td>\n",
       "      <td>1.000000</td>\n",
       "      <td>1.000000</td>\n",
       "      <td>1.000000</td>\n",
       "      <td>0.000000</td>\n",
       "      <td>0.000000</td>\n",
       "    </tr>\n",
       "    <tr>\n",
       "      <th>max</th>\n",
       "      <td>1.000000</td>\n",
       "      <td>75000.000000</td>\n",
       "      <td>1.000000</td>\n",
       "      <td>1.000000</td>\n",
       "      <td>1.000000</td>\n",
       "      <td>1.000000</td>\n",
       "      <td>1.000000</td>\n",
       "      <td>1.000000</td>\n",
       "      <td>72.000000</td>\n",
       "      <td>1.000000</td>\n",
       "      <td>1.000000</td>\n",
       "      <td>1.000000</td>\n",
       "      <td>1.000000</td>\n",
       "      <td>1.000000</td>\n",
       "      <td>1.000000</td>\n",
       "      <td>1.000000</td>\n",
       "      <td>1.000000</td>\n",
       "    </tr>\n",
       "  </tbody>\n",
       "</table>\n",
       "</div>"
      ],
      "text/plain": [
       "              Buy        Income   Is.Female  Is.Married  Has.College  \\\n",
       "count  673.000000    673.000000  673.000000  673.000000   673.000000   \n",
       "mean     0.185736  35078.751857    0.551263    0.349183     0.289747   \n",
       "std      0.389182  23812.787498    0.497735    0.477066     0.453982   \n",
       "min      0.000000      0.000000    0.000000    0.000000     0.000000   \n",
       "25%      0.000000  14000.000000    0.000000    0.000000     0.000000   \n",
       "50%      0.000000  32000.000000    1.000000    0.000000     0.000000   \n",
       "75%      0.000000  52000.000000    1.000000    1.000000     1.000000   \n",
       "max      1.000000  75000.000000    1.000000    1.000000     1.000000   \n",
       "\n",
       "       Is.Professional  Is.Retired  Unemployed  Residence.Length  Dual.Income  \\\n",
       "count       673.000000  673.000000  673.000000        673.000000   673.000000   \n",
       "mean          0.341753    0.057949    0.031204         17.618128     0.231798   \n",
       "std           0.474650    0.233822    0.173997         13.555818     0.422294   \n",
       "min           0.000000    0.000000    0.000000          0.000000     0.000000   \n",
       "25%           0.000000    0.000000    0.000000          7.000000     0.000000   \n",
       "50%           0.000000    0.000000    0.000000         16.000000     0.000000   \n",
       "75%           1.000000    0.000000    0.000000         24.000000     0.000000   \n",
       "max           1.000000    1.000000    1.000000         72.000000     1.000000   \n",
       "\n",
       "           Minors         Own       House   Is.USBorn     English  \\\n",
       "count  673.000000  673.000000  673.000000  673.000000  673.000000   \n",
       "mean     0.364042    0.362556    0.667162    0.692422    0.909361   \n",
       "std      0.481518    0.481096    0.471580    0.461834    0.287308   \n",
       "min      0.000000    0.000000    0.000000    0.000000    0.000000   \n",
       "25%      0.000000    0.000000    0.000000    0.000000    1.000000   \n",
       "50%      0.000000    0.000000    1.000000    1.000000    1.000000   \n",
       "75%      1.000000    1.000000    1.000000    1.000000    1.000000   \n",
       "max      1.000000    1.000000    1.000000    1.000000    1.000000   \n",
       "\n",
       "       Prev.Child.Mag  Prev.Parent.Mag  \n",
       "count      673.000000       673.000000  \n",
       "mean         0.071322         0.084695  \n",
       "std          0.257554         0.278635  \n",
       "min          0.000000         0.000000  \n",
       "25%          0.000000         0.000000  \n",
       "50%          0.000000         0.000000  \n",
       "75%          0.000000         0.000000  \n",
       "max          1.000000         1.000000  "
      ]
     },
     "execution_count": 7,
     "metadata": {},
     "output_type": "execute_result"
    }
   ],
   "source": [
    "#Descriptive Statistics\n",
    "data.describe(include=\"all\")"
   ]
  },
  {
   "cell_type": "code",
   "execution_count": 8,
   "metadata": {},
   "outputs": [
    {
     "data": {
      "text/plain": [
       "Buy                 0\n",
       "Income              0\n",
       "Is.Female           0\n",
       "Is.Married          0\n",
       "Has.College         0\n",
       "Is.Professional     0\n",
       "Is.Retired          0\n",
       "Unemployed          0\n",
       "Residence.Length    0\n",
       "Dual.Income         0\n",
       "Minors              0\n",
       "Own                 0\n",
       "House               0\n",
       "Is.USBorn           0\n",
       "English             0\n",
       "Prev.Child.Mag      0\n",
       "Prev.Parent.Mag     0\n",
       "dtype: int64"
      ]
     },
     "execution_count": 8,
     "metadata": {},
     "output_type": "execute_result"
    }
   ],
   "source": [
    "#Checking Missing Values\n",
    "# Dont takee whole datasset to replace missing values introduce cross validation\n",
    "data.isnull().sum()"
   ]
  },
  {
   "cell_type": "code",
   "execution_count": 9,
   "metadata": {},
   "outputs": [
    {
     "name": "stdout",
     "output_type": "stream",
     "text": [
      "Percentage of population who bought magazine: 18.57%\n"
     ]
    },
    {
     "data": {
      "text/plain": [
       "0    548\n",
       "1    125\n",
       "Name: Buy, dtype: int64"
      ]
     },
     "execution_count": 9,
     "metadata": {},
     "output_type": "execute_result"
    }
   ],
   "source": [
    "print(f\"Percentage of population who bought magazine: {round(len(data[data['Buy']==1])/len(data)*100,2)}%\")\n",
    "data.Buy.value_counts()\n"
   ]
  },
  {
   "cell_type": "code",
   "execution_count": 10,
   "metadata": {},
   "outputs": [],
   "source": [
    "def countplot(x,y,d):\n",
    "    sns.countplot(x=x, hue=y, data=d)"
   ]
  },
  {
   "cell_type": "code",
   "execution_count": 12,
   "metadata": {},
   "outputs": [
    {
     "data": {
      "image/png": "[encoded data removed]",
      "text/plain": [
       "<Figure size 432x288 with 1 Axes>"
      ]
     },
     "metadata": {
      "needs_background": "light"
     },
     "output_type": "display_data"
    }
   ],
   "source": [
    "countplot('Minors','Buy',data)\n"
   ]
  },
  {
   "cell_type": "code",
   "execution_count": 13,
   "metadata": {},
   "outputs": [
    {
     "data": {
      "image/png": "[encoded data removed]",
      "text/plain": [
       "<Figure size 432x288 with 1 Axes>"
      ]
     },
     "metadata": {
      "needs_background": "light"
     },
     "output_type": "display_data"
    }
   ],
   "source": [
    "countplot('Is.Married','Buy',data)"
   ]
  },
  {
   "cell_type": "code",
   "execution_count": 14,
   "metadata": {},
   "outputs": [
    {
     "data": {
      "text/plain": [
       "<matplotlib.axes._subplots.AxesSubplot at 0x192d2efd9c8>"
      ]
     },
     "execution_count": 14,
     "metadata": {},
     "output_type": "execute_result"
    },
    {
     "data": {
      "image/png": "[encoded data removed]",
      "text/plain": [
       "<Figure size 720x504 with 1 Axes>"
      ]
     },
     "metadata": {
      "needs_background": "light"
     },
     "output_type": "display_data"
    }
   ],
   "source": [
    "# Income Distribution\n",
    "plt.figure(figsize=(10,7))\n",
    "sns.boxplot(x='Income',data=data)"
   ]
  },
  {
   "cell_type": "code",
   "execution_count": 15,
   "metadata": {},
   "outputs": [
    {
     "data": {
      "text/plain": [
       "(array([178., 126., 152.,  99.,  43.,  41.,  10.,  16.,   5.,   3.]),\n",
       " array([ 0. ,  7.2, 14.4, 21.6, 28.8, 36. , 43.2, 50.4, 57.6, 64.8, 72. ]),\n",
       " <a list of 10 Patch objects>)"
      ]
     },
     "execution_count": 15,
     "metadata": {},
     "output_type": "execute_result"
    },
    {
     "data": {
      "image/png": "[encoded data removed]",
      "text/plain": [
       "<Figure size 432x288 with 1 Axes>"
      ]
     },
     "metadata": {
      "needs_background": "light"
     },
     "output_type": "display_data"
    }
   ],
   "source": [
    "#Length of residence distribution\n",
    "plt.hist(data['Residence.Length'])"
   ]
  },
  {
   "cell_type": "code",
   "execution_count": 16,
   "metadata": {},
   "outputs": [
    {
     "name": "stdout",
     "output_type": "stream",
     "text": [
      "Buy                 1.000000\n",
      "Income              0.679241\n",
      "Own                 0.378955\n",
      "Is.Married          0.355479\n",
      "Dual.Income         0.308080\n",
      "Is.Professional     0.227822\n",
      "Is.USBorn           0.202405\n",
      "Has.College         0.200299\n",
      "House               0.183283\n",
      "Residence.Length    0.163242\n",
      "Prev.Child.Mag      0.149717\n",
      "English             0.084241\n",
      "Is.Female           0.077529\n",
      "Prev.Parent.Mag     0.074282\n",
      "Minors              0.019811\n",
      "Is.Retired         -0.020338\n",
      "Unemployed         -0.063738\n",
      "Name: Buy, dtype: float64\n"
     ]
    }
   ],
   "source": [
    "## pearson correlation  \n",
    "corr = data.corr()\n",
    "corr.sort_values([\"Buy\"],ascending = False,inplace = True)\n",
    "print(corr.Buy)\n"
   ]
  },
  {
   "cell_type": "code",
   "execution_count": 17,
   "metadata": {},
   "outputs": [
    {
     "data": {
      "text/plain": [
       "<matplotlib.axes._subplots.AxesSubplot at 0x192d2f041c8>"
      ]
     },
     "execution_count": 17,
     "metadata": {},
     "output_type": "execute_result"
    },
    {
     "data": {
      "image/png": "[encoded data removed]",
      "text/plain": [
       "<Figure size 1440x1440 with 2 Axes>"
      ]
     },
     "metadata": {
      "needs_background": "light"
     },
     "output_type": "display_data"
    }
   ],
   "source": [
    "plt.figure(figsize=(20,20))\n",
    "sns.heatmap(corr, vmax=1, square=True,annot=True,cmap='seismic')"
   ]
  },
  {
   "cell_type": "markdown",
   "metadata": {},
   "source": [
    "\n",
    "##### ===============================================================================\n",
    "\n",
    "### Data Processing\n",
    "#### 1) Repace Categorical Binary data/ordinal Categorical data with numbers (lambda or map method)\n",
    "#### 2) Replace Missing Values if any - Mean , Median , Mode (if we have large enough data we can also drop records with missing values dropna() method if they consitute very low percentage of whole\n",
    "#### 3) Create Dummy Variablesfor categorical data (pd.get_dummies(Categorical_Feature,drop_first=True))\n",
    "#### 4) Standardize/ Normalize the data -- similar scale units\n",
    "#### 5) Build new features to improve model- feature engineering\n",
    "#### 6) Select relevant features/columns making bigger impact\n",
    "#### 7) Split dataset into Train and Test (Validate optional)\n",
    "#### 8) Modeling\n",
    "#### 9) Evaluate the model performance\n",
    "\n",
    "##### ==============================================================================="
   ]
  },
  {
   "cell_type": "code",
   "execution_count": 18,
   "metadata": {},
   "outputs": [],
   "source": [
    "from sklearn.preprocessing import StandardScaler\n"
   ]
  },
  {
   "cell_type": "code",
   "execution_count": 19,
   "metadata": {},
   "outputs": [],
   "source": [
    "# standardize\n",
    "scalar=StandardScaler()"
   ]
  },
  {
   "cell_type": "markdown",
   "metadata": {},
   "source": [
    "##### ===============================================================================\n",
    "\n",
    "### Standardizing Income Variable\n",
    "\n",
    "##### ==============================================================================="
   ]
  },
  {
   "cell_type": "code",
   "execution_count": 20,
   "metadata": {},
   "outputs": [],
   "source": [
    "data['Income']=scalar.fit_transform(data[['Income']])"
   ]
  },
  {
   "cell_type": "markdown",
   "metadata": {},
   "source": [
    "##### ===============================================================================\n",
    "\n",
    "### Feature Transform for \"Length of residence\"\n",
    "\n",
    "##### ==============================================================================="
   ]
  },
  {
   "cell_type": "code",
   "execution_count": 21,
   "metadata": {},
   "outputs": [],
   "source": [
    "data.loc[ data['Residence.Length'] <= 7, 'Residence.Length'] = 0\n",
    "data.loc[(data['Residence.Length'] > 7) & (data['Residence.Length'] <= 16), 'Residence.Length'] = 1\n",
    "data.loc[(data['Residence.Length'] > 16) & (data['Residence.Length'] <= 24), 'Residence.Length'] = 2\n",
    "data.loc[(data['Residence.Length'] > 24) & (data['Residence.Length'] <= 50), 'Residence.Length'] = 3\n",
    "data.loc[(data['Residence.Length'] > 50) , 'Residence.Length'] = 4\n",
    "\n"
   ]
  },
  {
   "cell_type": "markdown",
   "metadata": {},
   "source": [
    "\n",
    "##### ===============================================================================\n",
    "\n",
    "### We will go with highly correlated columns for exercise as subest\n",
    "\n",
    "##### ==============================================================================="
   ]
  },
  {
   "cell_type": "code",
   "execution_count": 22,
   "metadata": {},
   "outputs": [],
   "source": [
    "cols=['Income','Own','Is.Married','Dual.Income','Is.Professional','Is.USBorn','Has.College','Residence.Length','Minors']\n",
    "X=data[cols]\n",
    "Y=data['Buy']\n"
   ]
  },
  {
   "cell_type": "markdown",
   "metadata": {},
   "source": [
    "\n",
    "##### ===============================================================================\n",
    "\n",
    "### Checking Variance Inflation Factor  // Multicollinearity\n",
    "\n",
    "#### What is a Variance Inflation Factor (VIF)?\n",
    "###### Variance inflation factor (VIF) is a measure of the amount of multicollinearity in a set of multiple regression variables. Mathematically, the VIF for a regression model variable is equal to the ratio of the overall model variance to the variance of a model that includes only that single independent variable. This ratio is calculated for each independent variable. A high VIF indicates that the associated independent variable is highly collinear with the other variables in the model.\n",
    "\n",
    "https://www.investopedia.com/terms/v/variance-inflation-factor.asp#:~:text=Variance%20inflation%20factor%20(VIF)%20is,only%20that%20single%20independent%20variable.\n",
    "\n",
    "##### ==============================================================================="
   ]
  },
  {
   "cell_type": "code",
   "execution_count": 23,
   "metadata": {},
   "outputs": [],
   "source": [
    "from statsmodels.stats.outliers_influence import variance_inflation_factor\n"
   ]
  },
  {
   "cell_type": "code",
   "execution_count": 24,
   "metadata": {},
   "outputs": [
    {
     "data": {
      "text/html": [
       "<div>\n",
       "<style scoped>\n",
       "    .dataframe tbody tr th:only-of-type {\n",
       "        vertical-align: middle;\n",
       "    }\n",
       "\n",
       "    .dataframe tbody tr th {\n",
       "        vertical-align: top;\n",
       "    }\n",
       "\n",
       "    .dataframe thead th {\n",
       "        text-align: right;\n",
       "    }\n",
       "</style>\n",
       "<table border=\"1\" class=\"dataframe\">\n",
       "  <thead>\n",
       "    <tr style=\"text-align: right;\">\n",
       "      <th></th>\n",
       "      <th>variables</th>\n",
       "      <th>VIF</th>\n",
       "    </tr>\n",
       "  </thead>\n",
       "  <tbody>\n",
       "    <tr>\n",
       "      <th>0</th>\n",
       "      <td>Income</td>\n",
       "      <td>1.389694</td>\n",
       "    </tr>\n",
       "    <tr>\n",
       "      <th>1</th>\n",
       "      <td>Own</td>\n",
       "      <td>2.668779</td>\n",
       "    </tr>\n",
       "    <tr>\n",
       "      <th>2</th>\n",
       "      <td>Is.Married</td>\n",
       "      <td>3.754404</td>\n",
       "    </tr>\n",
       "    <tr>\n",
       "      <th>3</th>\n",
       "      <td>Dual.Income</td>\n",
       "      <td>2.331291</td>\n",
       "    </tr>\n",
       "    <tr>\n",
       "      <th>4</th>\n",
       "      <td>Is.Professional</td>\n",
       "      <td>1.849875</td>\n",
       "    </tr>\n",
       "    <tr>\n",
       "      <th>5</th>\n",
       "      <td>Is.USBorn</td>\n",
       "      <td>2.252673</td>\n",
       "    </tr>\n",
       "    <tr>\n",
       "      <th>6</th>\n",
       "      <td>Has.College</td>\n",
       "      <td>1.661482</td>\n",
       "    </tr>\n",
       "    <tr>\n",
       "      <th>7</th>\n",
       "      <td>Residence.Length</td>\n",
       "      <td>2.221881</td>\n",
       "    </tr>\n",
       "    <tr>\n",
       "      <th>8</th>\n",
       "      <td>Minors</td>\n",
       "      <td>1.435069</td>\n",
       "    </tr>\n",
       "  </tbody>\n",
       "</table>\n",
       "</div>"
      ],
      "text/plain": [
       "          variables       VIF\n",
       "0            Income  1.389694\n",
       "1               Own  2.668779\n",
       "2        Is.Married  3.754404\n",
       "3       Dual.Income  2.331291\n",
       "4   Is.Professional  1.849875\n",
       "5         Is.USBorn  2.252673\n",
       "6       Has.College  1.661482\n",
       "7  Residence.Length  2.221881\n",
       "8            Minors  1.435069"
      ]
     },
     "execution_count": 24,
     "metadata": {},
     "output_type": "execute_result"
    }
   ],
   "source": [
    "vif = pd.DataFrame()\n",
    "vif[\"variables\"] = X.columns\n",
    "vif[\"VIF\"] = [variance_inflation_factor(X.values, i) for i in range(X.shape[1])]\n",
    "vif"
   ]
  },
  {
   "cell_type": "code",
   "execution_count": 25,
   "metadata": {},
   "outputs": [
    {
     "data": {
      "text/html": [
       "<div>\n",
       "<style scoped>\n",
       "    .dataframe tbody tr th:only-of-type {\n",
       "        vertical-align: middle;\n",
       "    }\n",
       "\n",
       "    .dataframe tbody tr th {\n",
       "        vertical-align: top;\n",
       "    }\n",
       "\n",
       "    .dataframe thead th {\n",
       "        text-align: right;\n",
       "    }\n",
       "</style>\n",
       "<table border=\"1\" class=\"dataframe\">\n",
       "  <thead>\n",
       "    <tr style=\"text-align: right;\">\n",
       "      <th></th>\n",
       "      <th>Income</th>\n",
       "      <th>Own</th>\n",
       "      <th>Is.Married</th>\n",
       "      <th>Dual.Income</th>\n",
       "      <th>Is.Professional</th>\n",
       "      <th>Is.USBorn</th>\n",
       "      <th>Has.College</th>\n",
       "      <th>Residence.Length</th>\n",
       "      <th>Minors</th>\n",
       "    </tr>\n",
       "  </thead>\n",
       "  <tbody>\n",
       "    <tr>\n",
       "      <th>0</th>\n",
       "      <td>-0.465590</td>\n",
       "      <td>0</td>\n",
       "      <td>0</td>\n",
       "      <td>0</td>\n",
       "      <td>1</td>\n",
       "      <td>0</td>\n",
       "      <td>1</td>\n",
       "      <td>3</td>\n",
       "      <td>0</td>\n",
       "    </tr>\n",
       "    <tr>\n",
       "      <th>1</th>\n",
       "      <td>1.677710</td>\n",
       "      <td>1</td>\n",
       "      <td>1</td>\n",
       "      <td>1</td>\n",
       "      <td>1</td>\n",
       "      <td>1</td>\n",
       "      <td>1</td>\n",
       "      <td>1</td>\n",
       "      <td>0</td>\n",
       "    </tr>\n",
       "    <tr>\n",
       "      <th>2</th>\n",
       "      <td>0.458971</td>\n",
       "      <td>1</td>\n",
       "      <td>1</td>\n",
       "      <td>1</td>\n",
       "      <td>0</td>\n",
       "      <td>1</td>\n",
       "      <td>0</td>\n",
       "      <td>3</td>\n",
       "      <td>1</td>\n",
       "    </tr>\n",
       "    <tr>\n",
       "      <th>3</th>\n",
       "      <td>1.467582</td>\n",
       "      <td>1</td>\n",
       "      <td>1</td>\n",
       "      <td>0</td>\n",
       "      <td>1</td>\n",
       "      <td>1</td>\n",
       "      <td>0</td>\n",
       "      <td>4</td>\n",
       "      <td>0</td>\n",
       "    </tr>\n",
       "    <tr>\n",
       "      <th>4</th>\n",
       "      <td>0.332894</td>\n",
       "      <td>0</td>\n",
       "      <td>0</td>\n",
       "      <td>0</td>\n",
       "      <td>0</td>\n",
       "      <td>1</td>\n",
       "      <td>0</td>\n",
       "      <td>3</td>\n",
       "      <td>0</td>\n",
       "    </tr>\n",
       "  </tbody>\n",
       "</table>\n",
       "</div>"
      ],
      "text/plain": [
       "     Income  Own  Is.Married  Dual.Income  Is.Professional  Is.USBorn  \\\n",
       "0 -0.465590    0           0            0                1          0   \n",
       "1  1.677710    1           1            1                1          1   \n",
       "2  0.458971    1           1            1                0          1   \n",
       "3  1.467582    1           1            0                1          1   \n",
       "4  0.332894    0           0            0                0          1   \n",
       "\n",
       "   Has.College  Residence.Length  Minors  \n",
       "0            1                 3       0  \n",
       "1            1                 1       0  \n",
       "2            0                 3       1  \n",
       "3            0                 4       0  \n",
       "4            0                 3       0  "
      ]
     },
     "execution_count": 25,
     "metadata": {},
     "output_type": "execute_result"
    }
   ],
   "source": [
    "#view\n",
    "X.head()"
   ]
  },
  {
   "cell_type": "markdown",
   "metadata": {},
   "source": [
    "##### ===============================================================================\n",
    "\n",
    "### Split the dataset into Train and Test\n",
    "\n",
    "##### ==============================================================================="
   ]
  },
  {
   "cell_type": "code",
   "execution_count": 26,
   "metadata": {},
   "outputs": [],
   "source": [
    "from sklearn.model_selection import train_test_split"
   ]
  },
  {
   "cell_type": "code",
   "execution_count": 27,
   "metadata": {},
   "outputs": [],
   "source": [
    "x_train,x_test,y_train,y_test=train_test_split(X,Y,train_size=0.7,random_state=123,stratify=Y)\n",
    "# startify coz of imbalanced dataset"
   ]
  },
  {
   "cell_type": "markdown",
   "metadata": {},
   "source": [
    "##### =============================================================\n",
    "### Modelling\n",
    "##### ============================================================="
   ]
  },
  {
   "cell_type": "code",
   "execution_count": 28,
   "metadata": {},
   "outputs": [],
   "source": [
    "import statsmodels.api as sm"
   ]
  },
  {
   "cell_type": "code",
   "execution_count": 29,
   "metadata": {},
   "outputs": [],
   "source": [
    "statsml_logit=sm.GLM(y_train,(sm.add_constant(x_train)),family=sm.families.Binomial())"
   ]
  },
  {
   "cell_type": "code",
   "execution_count": 30,
   "metadata": {},
   "outputs": [
    {
     "data": {
      "text/html": [
       "<table class=\"simpletable\">\n",
       "<caption>Generalized Linear Model Regression Results</caption>\n",
       "<tr>\n",
       "  <th>Dep. Variable:</th>          <td>Buy</td>       <th>  No. Observations:  </th>  <td>   471</td> \n",
       "</tr>\n",
       "<tr>\n",
       "  <th>Model:</th>                  <td>GLM</td>       <th>  Df Residuals:      </th>  <td>   461</td> \n",
       "</tr>\n",
       "<tr>\n",
       "  <th>Model Family:</th>        <td>Binomial</td>     <th>  Df Model:          </th>  <td>     9</td> \n",
       "</tr>\n",
       "<tr>\n",
       "  <th>Link Function:</th>         <td>logit</td>      <th>  Scale:             </th> <td>  1.0000</td>\n",
       "</tr>\n",
       "<tr>\n",
       "  <th>Method:</th>                <td>IRLS</td>       <th>  Log-Likelihood:    </th> <td> -78.639</td>\n",
       "</tr>\n",
       "<tr>\n",
       "  <th>Date:</th>            <td>Sat, 12 Dec 2020</td> <th>  Deviance:          </th> <td>  157.28</td>\n",
       "</tr>\n",
       "<tr>\n",
       "  <th>Time:</th>                <td>10:58:58</td>     <th>  Pearson chi2:      </th>  <td>  206.</td> \n",
       "</tr>\n",
       "<tr>\n",
       "  <th>No. Iterations:</th>          <td>8</td>        <th>                     </th>     <td> </td>   \n",
       "</tr>\n",
       "<tr>\n",
       "  <th>Covariance Type:</th>     <td>nonrobust</td>    <th>                     </th>     <td> </td>   \n",
       "</tr>\n",
       "</table>\n",
       "<table class=\"simpletable\">\n",
       "<tr>\n",
       "          <td></td>            <th>coef</th>     <th>std err</th>      <th>z</th>      <th>P>|z|</th>  <th>[0.025</th>    <th>0.975]</th>  \n",
       "</tr>\n",
       "<tr>\n",
       "  <th>const</th>            <td>   -6.6765</td> <td>    0.978</td> <td>   -6.829</td> <td> 0.000</td> <td>   -8.593</td> <td>   -4.760</td>\n",
       "</tr>\n",
       "<tr>\n",
       "  <th>Income</th>           <td>    3.5517</td> <td>    0.431</td> <td>    8.232</td> <td> 0.000</td> <td>    2.706</td> <td>    4.397</td>\n",
       "</tr>\n",
       "<tr>\n",
       "  <th>Own</th>              <td>    0.4432</td> <td>    0.534</td> <td>    0.830</td> <td> 0.407</td> <td>   -0.603</td> <td>    1.490</td>\n",
       "</tr>\n",
       "<tr>\n",
       "  <th>Is.Married</th>       <td>    0.2928</td> <td>    0.612</td> <td>    0.478</td> <td> 0.632</td> <td>   -0.907</td> <td>    1.492</td>\n",
       "</tr>\n",
       "<tr>\n",
       "  <th>Dual.Income</th>      <td>    0.8989</td> <td>    0.523</td> <td>    1.719</td> <td> 0.086</td> <td>   -0.126</td> <td>    1.924</td>\n",
       "</tr>\n",
       "<tr>\n",
       "  <th>Is.Professional</th>  <td>    0.3709</td> <td>    0.442</td> <td>    0.840</td> <td> 0.401</td> <td>   -0.494</td> <td>    1.236</td>\n",
       "</tr>\n",
       "<tr>\n",
       "  <th>Is.USBorn</th>        <td>    1.4296</td> <td>    0.529</td> <td>    2.705</td> <td> 0.007</td> <td>    0.394</td> <td>    2.465</td>\n",
       "</tr>\n",
       "<tr>\n",
       "  <th>Has.College</th>      <td>   -0.3034</td> <td>    0.447</td> <td>   -0.679</td> <td> 0.497</td> <td>   -1.179</td> <td>    0.573</td>\n",
       "</tr>\n",
       "<tr>\n",
       "  <th>Residence.Length</th> <td>    0.1987</td> <td>    0.175</td> <td>    1.136</td> <td> 0.256</td> <td>   -0.144</td> <td>    0.542</td>\n",
       "</tr>\n",
       "<tr>\n",
       "  <th>Minors</th>           <td>    0.8499</td> <td>    0.469</td> <td>    1.813</td> <td> 0.070</td> <td>   -0.069</td> <td>    1.769</td>\n",
       "</tr>\n",
       "</table>"
      ],
      "text/plain": [
       "<class 'statsmodels.iolib.summary.Summary'>\n",
       "\"\"\"\n",
       "                 Generalized Linear Model Regression Results                  \n",
       "==============================================================================\n",
       "Dep. Variable:                    Buy   No. Observations:                  471\n",
       "Model:                            GLM   Df Residuals:                      461\n",
       "Model Family:                Binomial   Df Model:                            9\n",
       "Link Function:                  logit   Scale:                          1.0000\n",
       "Method:                          IRLS   Log-Likelihood:                -78.639\n",
       "Date:                Sat, 12 Dec 2020   Deviance:                       157.28\n",
       "Time:                        10:58:58   Pearson chi2:                     206.\n",
       "No. Iterations:                     8                                         \n",
       "Covariance Type:            nonrobust                                         \n",
       "====================================================================================\n",
       "                       coef    std err          z      P>|z|      [0.025      0.975]\n",
       "------------------------------------------------------------------------------------\n",
       "const               -6.6765      0.978     -6.829      0.000      -8.593      -4.760\n",
       "Income               3.5517      0.431      8.232      0.000       2.706       4.397\n",
       "Own                  0.4432      0.534      0.830      0.407      -0.603       1.490\n",
       "Is.Married           0.2928      0.612      0.478      0.632      -0.907       1.492\n",
       "Dual.Income          0.8989      0.523      1.719      0.086      -0.126       1.924\n",
       "Is.Professional      0.3709      0.442      0.840      0.401      -0.494       1.236\n",
       "Is.USBorn            1.4296      0.529      2.705      0.007       0.394       2.465\n",
       "Has.College         -0.3034      0.447     -0.679      0.497      -1.179       0.573\n",
       "Residence.Length     0.1987      0.175      1.136      0.256      -0.144       0.542\n",
       "Minors               0.8499      0.469      1.813      0.070      -0.069       1.769\n",
       "====================================================================================\n",
       "\"\"\""
      ]
     },
     "execution_count": 30,
     "metadata": {},
     "output_type": "execute_result"
    }
   ],
   "source": [
    "statsml_logit.fit().summary()"
   ]
  },
  {
   "cell_type": "markdown",
   "metadata": {},
   "source": [
    "##### =============================================================\n",
    "### Feature Elimination\n",
    "##### ============================================================="
   ]
  },
  {
   "cell_type": "code",
   "execution_count": 31,
   "metadata": {},
   "outputs": [],
   "source": [
    "from sklearn.linear_model import LogisticRegression\n",
    "from sklearn.feature_selection import RFE"
   ]
  },
  {
   "cell_type": "code",
   "execution_count": 32,
   "metadata": {},
   "outputs": [],
   "source": [
    "\n",
    "logit=LogisticRegression()\n",
    "rfe=RFE(logit,5)\n",
    "rfe=rfe.fit(X,Y)\n",
    "\n",
    "# extract values as pandas series\n",
    "ser1=pd.Series(X.columns.to_list())\n",
    "ser2=pd.Series(list(rfe.support_))\n",
    "ser3=pd.Series(list(rfe.ranking_))"
   ]
  },
  {
   "cell_type": "code",
   "execution_count": 33,
   "metadata": {},
   "outputs": [
    {
     "data": {
      "text/html": [
       "<div>\n",
       "<style scoped>\n",
       "    .dataframe tbody tr th:only-of-type {\n",
       "        vertical-align: middle;\n",
       "    }\n",
       "\n",
       "    .dataframe tbody tr th {\n",
       "        vertical-align: top;\n",
       "    }\n",
       "\n",
       "    .dataframe thead th {\n",
       "        text-align: right;\n",
       "    }\n",
       "</style>\n",
       "<table border=\"1\" class=\"dataframe\">\n",
       "  <thead>\n",
       "    <tr style=\"text-align: right;\">\n",
       "      <th></th>\n",
       "      <th>feature</th>\n",
       "      <th>keep</th>\n",
       "      <th>rank</th>\n",
       "    </tr>\n",
       "  </thead>\n",
       "  <tbody>\n",
       "    <tr>\n",
       "      <th>0</th>\n",
       "      <td>Income</td>\n",
       "      <td>True</td>\n",
       "      <td>1</td>\n",
       "    </tr>\n",
       "    <tr>\n",
       "      <th>1</th>\n",
       "      <td>Own</td>\n",
       "      <td>True</td>\n",
       "      <td>1</td>\n",
       "    </tr>\n",
       "    <tr>\n",
       "      <th>2</th>\n",
       "      <td>Is.Married</td>\n",
       "      <td>False</td>\n",
       "      <td>2</td>\n",
       "    </tr>\n",
       "    <tr>\n",
       "      <th>3</th>\n",
       "      <td>Dual.Income</td>\n",
       "      <td>True</td>\n",
       "      <td>1</td>\n",
       "    </tr>\n",
       "    <tr>\n",
       "      <th>4</th>\n",
       "      <td>Is.Professional</td>\n",
       "      <td>False</td>\n",
       "      <td>3</td>\n",
       "    </tr>\n",
       "    <tr>\n",
       "      <th>5</th>\n",
       "      <td>Is.USBorn</td>\n",
       "      <td>True</td>\n",
       "      <td>1</td>\n",
       "    </tr>\n",
       "    <tr>\n",
       "      <th>6</th>\n",
       "      <td>Has.College</td>\n",
       "      <td>False</td>\n",
       "      <td>4</td>\n",
       "    </tr>\n",
       "    <tr>\n",
       "      <th>7</th>\n",
       "      <td>Residence.Length</td>\n",
       "      <td>False</td>\n",
       "      <td>5</td>\n",
       "    </tr>\n",
       "    <tr>\n",
       "      <th>8</th>\n",
       "      <td>Minors</td>\n",
       "      <td>True</td>\n",
       "      <td>1</td>\n",
       "    </tr>\n",
       "  </tbody>\n",
       "</table>\n",
       "</div>"
      ],
      "text/plain": [
       "            feature   keep  rank\n",
       "0            Income   True     1\n",
       "1               Own   True     1\n",
       "2        Is.Married  False     2\n",
       "3       Dual.Income   True     1\n",
       "4   Is.Professional  False     3\n",
       "5         Is.USBorn   True     1\n",
       "6       Has.College  False     4\n",
       "7  Residence.Length  False     5\n",
       "8            Minors   True     1"
      ]
     },
     "execution_count": 33,
     "metadata": {},
     "output_type": "execute_result"
    }
   ],
   "source": [
    "# https://pandas.pydata.org/pandas-docs/stable/user_guide/merging.html\n",
    "rfe_val=pd.concat([ser1.rename('feature'),ser2.rename('keep'),ser3.rename('rank')],axis=1)\n",
    "rfe_val"
   ]
  },
  {
   "cell_type": "code",
   "execution_count": 34,
   "metadata": {},
   "outputs": [],
   "source": [
    "#Only take forward columns which remain\n",
    "keep_cols=rfe_val[rfe_val.keep==1]['feature'].to_list()"
   ]
  },
  {
   "cell_type": "code",
   "execution_count": 35,
   "metadata": {},
   "outputs": [
    {
     "data": {
      "text/plain": [
       "LogisticRegression(C=1.0, class_weight=None, dual=False, fit_intercept=True,\n",
       "                   intercept_scaling=1, l1_ratio=None, max_iter=100,\n",
       "                   multi_class='auto', n_jobs=None, penalty='l2',\n",
       "                   random_state=None, solver='lbfgs', tol=0.0001, verbose=0,\n",
       "                   warm_start=False)"
      ]
     },
     "execution_count": 35,
     "metadata": {},
     "output_type": "execute_result"
    }
   ],
   "source": [
    "lg=logit.fit(x_train[keep_cols],y_train)\n",
    "lg"
   ]
  },
  {
   "cell_type": "code",
   "execution_count": 36,
   "metadata": {},
   "outputs": [
    {
     "data": {
      "text/html": [
       "<table class=\"simpletable\">\n",
       "<caption>Generalized Linear Model Regression Results</caption>\n",
       "<tr>\n",
       "  <th>Dep. Variable:</th>          <td>Buy</td>       <th>  No. Observations:  </th>  <td>   471</td> \n",
       "</tr>\n",
       "<tr>\n",
       "  <th>Model:</th>                  <td>GLM</td>       <th>  Df Residuals:      </th>  <td>   465</td> \n",
       "</tr>\n",
       "<tr>\n",
       "  <th>Model Family:</th>        <td>Binomial</td>     <th>  Df Model:          </th>  <td>     5</td> \n",
       "</tr>\n",
       "<tr>\n",
       "  <th>Link Function:</th>         <td>logit</td>      <th>  Scale:             </th> <td>  1.0000</td>\n",
       "</tr>\n",
       "<tr>\n",
       "  <th>Method:</th>                <td>IRLS</td>       <th>  Log-Likelihood:    </th> <td> -79.808</td>\n",
       "</tr>\n",
       "<tr>\n",
       "  <th>Date:</th>            <td>Sat, 12 Dec 2020</td> <th>  Deviance:          </th> <td>  159.62</td>\n",
       "</tr>\n",
       "<tr>\n",
       "  <th>Time:</th>                <td>10:59:03</td>     <th>  Pearson chi2:      </th>  <td>  257.</td> \n",
       "</tr>\n",
       "<tr>\n",
       "  <th>No. Iterations:</th>          <td>8</td>        <th>                     </th>     <td> </td>   \n",
       "</tr>\n",
       "<tr>\n",
       "  <th>Covariance Type:</th>     <td>nonrobust</td>    <th>                     </th>     <td> </td>   \n",
       "</tr>\n",
       "</table>\n",
       "<table class=\"simpletable\">\n",
       "<tr>\n",
       "       <td></td>          <th>coef</th>     <th>std err</th>      <th>z</th>      <th>P>|z|</th>  <th>[0.025</th>    <th>0.975]</th>  \n",
       "</tr>\n",
       "<tr>\n",
       "  <th>const</th>       <td>   -6.1574</td> <td>    0.847</td> <td>   -7.274</td> <td> 0.000</td> <td>   -7.817</td> <td>   -4.498</td>\n",
       "</tr>\n",
       "<tr>\n",
       "  <th>Income</th>      <td>    3.5114</td> <td>    0.421</td> <td>    8.348</td> <td> 0.000</td> <td>    2.687</td> <td>    4.336</td>\n",
       "</tr>\n",
       "<tr>\n",
       "  <th>Own</th>         <td>    0.6561</td> <td>    0.428</td> <td>    1.533</td> <td> 0.125</td> <td>   -0.183</td> <td>    1.495</td>\n",
       "</tr>\n",
       "<tr>\n",
       "  <th>Dual.Income</th> <td>    1.0358</td> <td>    0.423</td> <td>    2.447</td> <td> 0.014</td> <td>    0.206</td> <td>    1.865</td>\n",
       "</tr>\n",
       "<tr>\n",
       "  <th>Is.USBorn</th>   <td>    1.3340</td> <td>    0.516</td> <td>    2.585</td> <td> 0.010</td> <td>    0.323</td> <td>    2.345</td>\n",
       "</tr>\n",
       "<tr>\n",
       "  <th>Minors</th>      <td>    0.8142</td> <td>    0.445</td> <td>    1.831</td> <td> 0.067</td> <td>   -0.057</td> <td>    1.686</td>\n",
       "</tr>\n",
       "</table>"
      ],
      "text/plain": [
       "<class 'statsmodels.iolib.summary.Summary'>\n",
       "\"\"\"\n",
       "                 Generalized Linear Model Regression Results                  \n",
       "==============================================================================\n",
       "Dep. Variable:                    Buy   No. Observations:                  471\n",
       "Model:                            GLM   Df Residuals:                      465\n",
       "Model Family:                Binomial   Df Model:                            5\n",
       "Link Function:                  logit   Scale:                          1.0000\n",
       "Method:                          IRLS   Log-Likelihood:                -79.808\n",
       "Date:                Sat, 12 Dec 2020   Deviance:                       159.62\n",
       "Time:                        10:59:03   Pearson chi2:                     257.\n",
       "No. Iterations:                     8                                         \n",
       "Covariance Type:            nonrobust                                         \n",
       "===============================================================================\n",
       "                  coef    std err          z      P>|z|      [0.025      0.975]\n",
       "-------------------------------------------------------------------------------\n",
       "const          -6.1574      0.847     -7.274      0.000      -7.817      -4.498\n",
       "Income          3.5114      0.421      8.348      0.000       2.687       4.336\n",
       "Own             0.6561      0.428      1.533      0.125      -0.183       1.495\n",
       "Dual.Income     1.0358      0.423      2.447      0.014       0.206       1.865\n",
       "Is.USBorn       1.3340      0.516      2.585      0.010       0.323       2.345\n",
       "Minors          0.8142      0.445      1.831      0.067      -0.057       1.686\n",
       "===============================================================================\n",
       "\"\"\""
      ]
     },
     "execution_count": 36,
     "metadata": {},
     "output_type": "execute_result"
    }
   ],
   "source": [
    "statsml_logit_imprvd=sm.GLM(y_train,(sm.add_constant(x_train[keep_cols])),family=sm.families.Binomial())\n",
    "statsml_logit_imprvd.fit().summary()"
   ]
  },
  {
   "cell_type": "markdown",
   "metadata": {},
   "source": [
    "##### =============================================================\n",
    "### Output Probabilities on Test set\n",
    "##### ============================================================="
   ]
  },
  {
   "cell_type": "code",
   "execution_count": 37,
   "metadata": {},
   "outputs": [],
   "source": [
    "y_pred=logit.predict_proba(x_test[keep_cols])"
   ]
  },
  {
   "cell_type": "markdown",
   "metadata": {},
   "source": [
    "##### =============================================================\n",
    "### Check probability value with variable \"Buy\"\n",
    "##### ============================================================="
   ]
  },
  {
   "cell_type": "code",
   "execution_count": 38,
   "metadata": {},
   "outputs": [
    {
     "data": {
      "text/markdown": [
       "***<class 'numpy.ndarray'>***"
      ],
      "text/plain": [
       "<IPython.core.display.Markdown object>"
      ]
     },
     "metadata": {},
     "output_type": "display_data"
    }
   ],
   "source": [
    "printmd(f\"***{type(y_pred)}***\")\n",
    "y_pred_df=pd.DataFrame(y_pred)\n"
   ]
  },
  {
   "cell_type": "code",
   "execution_count": 39,
   "metadata": {},
   "outputs": [
    {
     "data": {
      "text/plain": [
       "0      0.869151\n",
       "1      0.003474\n",
       "2      0.031567\n",
       "3      0.910765\n",
       "4      0.042072\n",
       "         ...   \n",
       "197    0.007857\n",
       "198    0.042072\n",
       "199    0.001185\n",
       "200    0.003474\n",
       "201    0.000466\n",
       "Name: 1, Length: 202, dtype: float64"
      ]
     },
     "execution_count": 39,
     "metadata": {},
     "output_type": "execute_result"
    }
   ],
   "source": [
    "y_pred_df[1]"
   ]
  },
  {
   "cell_type": "code",
   "execution_count": 40,
   "metadata": {},
   "outputs": [],
   "source": [
    "y_test_df=pd.DataFrame(y_test)"
   ]
  },
  {
   "cell_type": "code",
   "execution_count": 41,
   "metadata": {},
   "outputs": [
    {
     "data": {
      "text/html": [
       "<div>\n",
       "<style scoped>\n",
       "    .dataframe tbody tr th:only-of-type {\n",
       "        vertical-align: middle;\n",
       "    }\n",
       "\n",
       "    .dataframe tbody tr th {\n",
       "        vertical-align: top;\n",
       "    }\n",
       "\n",
       "    .dataframe thead th {\n",
       "        text-align: right;\n",
       "    }\n",
       "</style>\n",
       "<table border=\"1\" class=\"dataframe\">\n",
       "  <thead>\n",
       "    <tr style=\"text-align: right;\">\n",
       "      <th></th>\n",
       "      <th>Buy</th>\n",
       "    </tr>\n",
       "  </thead>\n",
       "  <tbody>\n",
       "    <tr>\n",
       "      <th>251</th>\n",
       "      <td>0</td>\n",
       "    </tr>\n",
       "    <tr>\n",
       "      <th>394</th>\n",
       "      <td>0</td>\n",
       "    </tr>\n",
       "    <tr>\n",
       "      <th>173</th>\n",
       "      <td>0</td>\n",
       "    </tr>\n",
       "    <tr>\n",
       "      <th>233</th>\n",
       "      <td>1</td>\n",
       "    </tr>\n",
       "    <tr>\n",
       "      <th>4</th>\n",
       "      <td>0</td>\n",
       "    </tr>\n",
       "    <tr>\n",
       "      <th>...</th>\n",
       "      <td>...</td>\n",
       "    </tr>\n",
       "    <tr>\n",
       "      <th>135</th>\n",
       "      <td>0</td>\n",
       "    </tr>\n",
       "    <tr>\n",
       "      <th>50</th>\n",
       "      <td>0</td>\n",
       "    </tr>\n",
       "    <tr>\n",
       "      <th>357</th>\n",
       "      <td>0</td>\n",
       "    </tr>\n",
       "    <tr>\n",
       "      <th>428</th>\n",
       "      <td>0</td>\n",
       "    </tr>\n",
       "    <tr>\n",
       "      <th>161</th>\n",
       "      <td>0</td>\n",
       "    </tr>\n",
       "  </tbody>\n",
       "</table>\n",
       "<p>202 rows × 1 columns</p>\n",
       "</div>"
      ],
      "text/plain": [
       "     Buy\n",
       "251    0\n",
       "394    0\n",
       "173    0\n",
       "233    1\n",
       "4      0\n",
       "..   ...\n",
       "135    0\n",
       "50     0\n",
       "357    0\n",
       "428    0\n",
       "161    0\n",
       "\n",
       "[202 rows x 1 columns]"
      ]
     },
     "execution_count": 41,
     "metadata": {},
     "output_type": "execute_result"
    }
   ],
   "source": [
    "y_test_df"
   ]
  },
  {
   "cell_type": "code",
   "execution_count": 42,
   "metadata": {},
   "outputs": [],
   "source": [
    "y_test_df.reset_index(drop=True, inplace=True)\n",
    "y_pred_df[1].reset_index(drop=True, inplace=True)"
   ]
  },
  {
   "cell_type": "code",
   "execution_count": 43,
   "metadata": {},
   "outputs": [],
   "source": [
    "Y_pred_concat=pd.concat([y_test_df,y_pred_df[1]],axis=1)"
   ]
  },
  {
   "cell_type": "code",
   "execution_count": 44,
   "metadata": {},
   "outputs": [
    {
     "data": {
      "text/html": [
       "<div>\n",
       "<style scoped>\n",
       "    .dataframe tbody tr th:only-of-type {\n",
       "        vertical-align: middle;\n",
       "    }\n",
       "\n",
       "    .dataframe tbody tr th {\n",
       "        vertical-align: top;\n",
       "    }\n",
       "\n",
       "    .dataframe thead th {\n",
       "        text-align: right;\n",
       "    }\n",
       "</style>\n",
       "<table border=\"1\" class=\"dataframe\">\n",
       "  <thead>\n",
       "    <tr style=\"text-align: right;\">\n",
       "      <th></th>\n",
       "      <th>Buy</th>\n",
       "      <th>1</th>\n",
       "    </tr>\n",
       "  </thead>\n",
       "  <tbody>\n",
       "    <tr>\n",
       "      <th>0</th>\n",
       "      <td>0</td>\n",
       "      <td>0.869151</td>\n",
       "    </tr>\n",
       "    <tr>\n",
       "      <th>1</th>\n",
       "      <td>0</td>\n",
       "      <td>0.003474</td>\n",
       "    </tr>\n",
       "    <tr>\n",
       "      <th>2</th>\n",
       "      <td>0</td>\n",
       "      <td>0.031567</td>\n",
       "    </tr>\n",
       "    <tr>\n",
       "      <th>3</th>\n",
       "      <td>1</td>\n",
       "      <td>0.910765</td>\n",
       "    </tr>\n",
       "    <tr>\n",
       "      <th>4</th>\n",
       "      <td>0</td>\n",
       "      <td>0.042072</td>\n",
       "    </tr>\n",
       "    <tr>\n",
       "      <th>5</th>\n",
       "      <td>0</td>\n",
       "      <td>0.458633</td>\n",
       "    </tr>\n",
       "    <tr>\n",
       "      <th>6</th>\n",
       "      <td>0</td>\n",
       "      <td>0.000410</td>\n",
       "    </tr>\n",
       "    <tr>\n",
       "      <th>7</th>\n",
       "      <td>0</td>\n",
       "      <td>0.002096</td>\n",
       "    </tr>\n",
       "    <tr>\n",
       "      <th>8</th>\n",
       "      <td>0</td>\n",
       "      <td>0.001627</td>\n",
       "    </tr>\n",
       "    <tr>\n",
       "      <th>9</th>\n",
       "      <td>0</td>\n",
       "      <td>0.004471</td>\n",
       "    </tr>\n",
       "  </tbody>\n",
       "</table>\n",
       "</div>"
      ],
      "text/plain": [
       "   Buy         1\n",
       "0    0  0.869151\n",
       "1    0  0.003474\n",
       "2    0  0.031567\n",
       "3    1  0.910765\n",
       "4    0  0.042072\n",
       "5    0  0.458633\n",
       "6    0  0.000410\n",
       "7    0  0.002096\n",
       "8    0  0.001627\n",
       "9    0  0.004471"
      ]
     },
     "execution_count": 44,
     "metadata": {},
     "output_type": "execute_result"
    }
   ],
   "source": [
    "Y_pred_concat.head(10)"
   ]
  },
  {
   "cell_type": "code",
   "execution_count": 45,
   "metadata": {},
   "outputs": [],
   "source": [
    "y_predict=logit.predict(x_test[keep_cols])"
   ]
  },
  {
   "cell_type": "code",
   "execution_count": 46,
   "metadata": {},
   "outputs": [],
   "source": [
    "predicted=pd.Series(list(y_predict))"
   ]
  },
  {
   "cell_type": "code",
   "execution_count": 47,
   "metadata": {},
   "outputs": [],
   "source": [
    "predicted.reset_index(drop=True, inplace=True)"
   ]
  },
  {
   "cell_type": "code",
   "execution_count": 48,
   "metadata": {},
   "outputs": [],
   "source": [
    "Y_pred_concat=pd.concat([y_test_df,y_pred_df[1].rename('probability'),predicted.rename('predicted')],axis=1)"
   ]
  },
  {
   "cell_type": "code",
   "execution_count": 49,
   "metadata": {},
   "outputs": [
    {
     "data": {
      "text/html": [
       "<div>\n",
       "<style scoped>\n",
       "    .dataframe tbody tr th:only-of-type {\n",
       "        vertical-align: middle;\n",
       "    }\n",
       "\n",
       "    .dataframe tbody tr th {\n",
       "        vertical-align: top;\n",
       "    }\n",
       "\n",
       "    .dataframe thead th {\n",
       "        text-align: right;\n",
       "    }\n",
       "</style>\n",
       "<table border=\"1\" class=\"dataframe\">\n",
       "  <thead>\n",
       "    <tr style=\"text-align: right;\">\n",
       "      <th></th>\n",
       "      <th>Buy</th>\n",
       "      <th>probability</th>\n",
       "      <th>predicted</th>\n",
       "    </tr>\n",
       "  </thead>\n",
       "  <tbody>\n",
       "    <tr>\n",
       "      <th>0</th>\n",
       "      <td>0</td>\n",
       "      <td>0.869151</td>\n",
       "      <td>1</td>\n",
       "    </tr>\n",
       "    <tr>\n",
       "      <th>1</th>\n",
       "      <td>0</td>\n",
       "      <td>0.003474</td>\n",
       "      <td>0</td>\n",
       "    </tr>\n",
       "    <tr>\n",
       "      <th>2</th>\n",
       "      <td>0</td>\n",
       "      <td>0.031567</td>\n",
       "      <td>0</td>\n",
       "    </tr>\n",
       "    <tr>\n",
       "      <th>3</th>\n",
       "      <td>1</td>\n",
       "      <td>0.910765</td>\n",
       "      <td>1</td>\n",
       "    </tr>\n",
       "    <tr>\n",
       "      <th>4</th>\n",
       "      <td>0</td>\n",
       "      <td>0.042072</td>\n",
       "      <td>0</td>\n",
       "    </tr>\n",
       "    <tr>\n",
       "      <th>5</th>\n",
       "      <td>0</td>\n",
       "      <td>0.458633</td>\n",
       "      <td>0</td>\n",
       "    </tr>\n",
       "    <tr>\n",
       "      <th>6</th>\n",
       "      <td>0</td>\n",
       "      <td>0.000410</td>\n",
       "      <td>0</td>\n",
       "    </tr>\n",
       "    <tr>\n",
       "      <th>7</th>\n",
       "      <td>0</td>\n",
       "      <td>0.002096</td>\n",
       "      <td>0</td>\n",
       "    </tr>\n",
       "    <tr>\n",
       "      <th>8</th>\n",
       "      <td>0</td>\n",
       "      <td>0.001627</td>\n",
       "      <td>0</td>\n",
       "    </tr>\n",
       "    <tr>\n",
       "      <th>9</th>\n",
       "      <td>0</td>\n",
       "      <td>0.004471</td>\n",
       "      <td>0</td>\n",
       "    </tr>\n",
       "  </tbody>\n",
       "</table>\n",
       "</div>"
      ],
      "text/plain": [
       "   Buy  probability  predicted\n",
       "0    0     0.869151          1\n",
       "1    0     0.003474          0\n",
       "2    0     0.031567          0\n",
       "3    1     0.910765          1\n",
       "4    0     0.042072          0\n",
       "5    0     0.458633          0\n",
       "6    0     0.000410          0\n",
       "7    0     0.002096          0\n",
       "8    0     0.001627          0\n",
       "9    0     0.004471          0"
      ]
     },
     "execution_count": 49,
     "metadata": {},
     "output_type": "execute_result"
    }
   ],
   "source": [
    "Y_pred_concat.head(10)"
   ]
  },
  {
   "cell_type": "markdown",
   "metadata": {},
   "source": [
    "##### =============================================================\n",
    "### Eavluate performance \n",
    "#### Confusion Matrix\n",
    "https://en.wikipedia.org/wiki/Confusion_matrix\n",
    "##### ============================================================="
   ]
  },
  {
   "cell_type": "code",
   "execution_count": 50,
   "metadata": {},
   "outputs": [],
   "source": [
    "from sklearn.metrics import confusion_matrix, classification_report,accuracy_score"
   ]
  },
  {
   "cell_type": "code",
   "execution_count": 51,
   "metadata": {},
   "outputs": [],
   "source": [
    "cm=confusion_matrix(y_test,y_predict)"
   ]
  },
  {
   "cell_type": "code",
   "execution_count": 52,
   "metadata": {},
   "outputs": [
    {
     "data": {
      "text/plain": [
       "array([[159,   5],\n",
       "       [  4,  34]], dtype=int64)"
      ]
     },
     "execution_count": 52,
     "metadata": {},
     "output_type": "execute_result"
    }
   ],
   "source": [
    "cm"
   ]
  },
  {
   "cell_type": "code",
   "execution_count": 53,
   "metadata": {},
   "outputs": [
    {
     "data": {
      "text/plain": [
       "251    0\n",
       "394    0\n",
       "173    0\n",
       "233    1\n",
       "4      0\n",
       "      ..\n",
       "135    0\n",
       "50     0\n",
       "357    0\n",
       "428    0\n",
       "161    0\n",
       "Name: Buy, Length: 202, dtype: int64"
      ]
     },
     "execution_count": 53,
     "metadata": {},
     "output_type": "execute_result"
    }
   ],
   "source": [
    "y_test"
   ]
  },
  {
   "cell_type": "markdown",
   "metadata": {},
   "source": [
    "### Confusion Matrix with label"
   ]
  },
  {
   "cell_type": "code",
   "execution_count": 54,
   "metadata": {},
   "outputs": [
    {
     "data": {
      "text/plain": [
       "<matplotlib.axes._subplots.AxesSubplot at 0x192d56f5488>"
      ]
     },
     "execution_count": 54,
     "metadata": {},
     "output_type": "execute_result"
    },
    {
     "data": {
      "image/png": "[encoded data removed]",
      "text/plain": [
       "<Figure size 432x288 with 2 Axes>"
      ]
     },
     "metadata": {
      "needs_background": "light"
     },
     "output_type": "display_data"
    }
   ],
   "source": [
    "sns.heatmap(cm, annot=True)"
   ]
  },
  {
   "cell_type": "code",
   "execution_count": 55,
   "metadata": {},
   "outputs": [
    {
     "data": {
      "text/plain": [
       "<matplotlib.axes._subplots.AxesSubplot at 0x192d45869c8>"
      ]
     },
     "execution_count": 55,
     "metadata": {},
     "output_type": "execute_result"
    },
    {
     "data": {
      "image/png": "[encoded data removed]",
      "text/plain": [
       "<Figure size 432x288 with 2 Axes>"
      ]
     },
     "metadata": {
      "needs_background": "light"
     },
     "output_type": "display_data"
    }
   ],
   "source": [
    "sns.heatmap(cm/np.sum(cm), annot=True, \n",
    "            fmt='.2%', cmap='Blues')"
   ]
  },
  {
   "cell_type": "markdown",
   "metadata": {},
   "source": [
    "##### ===============================================================================\n",
    "\n",
    "### Model Score\n",
    "\n",
    "##### ==============================================================================="
   ]
  },
  {
   "cell_type": "code",
   "execution_count": 56,
   "metadata": {},
   "outputs": [
    {
     "data": {
      "text/plain": [
       "0.9554455445544554"
      ]
     },
     "execution_count": 56,
     "metadata": {},
     "output_type": "execute_result"
    }
   ],
   "source": [
    "logit.score(x_test[keep_cols],y_test)"
   ]
  },
  {
   "cell_type": "code",
   "execution_count": 57,
   "metadata": {},
   "outputs": [
    {
     "data": {
      "text/plain": [
       "0.9554455445544554"
      ]
     },
     "execution_count": 57,
     "metadata": {},
     "output_type": "execute_result"
    }
   ],
   "source": [
    "accuracy_score(y_test,y_predict)"
   ]
  },
  {
   "cell_type": "code",
   "execution_count": 58,
   "metadata": {},
   "outputs": [
    {
     "name": "stdout",
     "output_type": "stream",
     "text": [
      "              precision    recall  f1-score   support\n",
      "\n",
      "           0       0.98      0.97      0.97       164\n",
      "           1       0.87      0.89      0.88        38\n",
      "\n",
      "    accuracy                           0.96       202\n",
      "   macro avg       0.92      0.93      0.93       202\n",
      "weighted avg       0.96      0.96      0.96       202\n",
      "\n"
     ]
    }
   ],
   "source": [
    "clr=classification_report(y_test,y_predict)\n",
    "print(clr)"
   ]
  },
  {
   "cell_type": "code",
   "execution_count": 59,
   "metadata": {},
   "outputs": [
    {
     "name": "stdout",
     "output_type": "stream",
     "text": [
      "[[3.01445024 0.55255699 0.84196554 0.99880169 0.56926638]] [-5.12768799]\n"
     ]
    }
   ],
   "source": [
    "print(lg.coef_, lg.intercept_)"
   ]
  },
  {
   "cell_type": "code",
   "execution_count": null,
   "metadata": {},
   "outputs": [],
   "source": []
  },
  {
   "cell_type": "markdown",
   "metadata": {},
   "source": [
    "##### ===============================================================================\n",
    "\n",
    "#### Extra\n",
    "### #Increase threshold\n",
    "\n",
    "## Probabilities allows us to customize strictness parameter\n",
    "\n",
    "##### ==============================================================================="
   ]
  },
  {
   "cell_type": "code",
   "execution_count": 60,
   "metadata": {},
   "outputs": [],
   "source": [
    "threshold=0.7\n",
    "y_pred_new_thr=[]\n",
    "for i in range(0,len(y_pred)):\n",
    "#     print(y_pred[i][1])\n",
    "    if y_pred[i][1]>threshold:\n",
    "        y_pred_new_thr.append(1)\n",
    "    else:\n",
    "         y_pred_new_thr.append(0)"
   ]
  },
  {
   "cell_type": "code",
   "execution_count": 61,
   "metadata": {},
   "outputs": [
    {
     "name": "stdout",
     "output_type": "stream",
     "text": [
      "[[161   3]\n",
      " [  9  29]]\n",
      "=============================\n",
      "score: 0.9405940594059405\n",
      "=============================\n",
      "              precision    recall  f1-score   support\n",
      "\n",
      "           0       0.95      0.98      0.96       164\n",
      "           1       0.91      0.76      0.83        38\n",
      "\n",
      "    accuracy                           0.94       202\n",
      "   macro avg       0.93      0.87      0.90       202\n",
      "weighted avg       0.94      0.94      0.94       202\n",
      "\n"
     ]
    }
   ],
   "source": [
    "cm_new_thr=confusion_matrix(y_test,y_pred_new_thr)\n",
    "score_new_thr=accuracy_score(y_test,y_pred_new_thr)\n",
    "clr_new_thr=classification_report(y_test,y_pred_new_thr)\n",
    "print(cm_new_thr)\n",
    "print(\"=============================\")\n",
    "print(f\"score: {score_new_thr}\")\n",
    "print(\"=============================\")\n",
    "print(clr_new_thr)\n"
   ]
  },
  {
   "cell_type": "code",
   "execution_count": null,
   "metadata": {},
   "outputs": [],
   "source": []
  }
 ],
 "metadata": {
  "kernelspec": {
   "display_name": "Python 3",
   "language": "python",
   "name": "python3"
  },
  "language_info": {
   "codemirror_mode": {
    "name": "ipython",
    "version": 3
   },
   "file_extension": ".py",
   "mimetype": "text/x-python",
   "name": "python",
   "nbconvert_exporter": "python",
   "pygments_lexer": "ipython3",
   "version": "3.7.6"
  }
 },
 "nbformat": 4,
 "nbformat_minor": 4
}
